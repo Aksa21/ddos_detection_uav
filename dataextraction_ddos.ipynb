{
  "nbformat": 4,
  "nbformat_minor": 0,
  "metadata": {
    "colab": {
      "provenance": [],
      "authorship_tag": "ABX9TyNPLruDQU8KBROmP8v6QyPe",
      "include_colab_link": true
    },
    "kernelspec": {
      "name": "python3",
      "display_name": "Python 3"
    },
    "language_info": {
      "name": "python"
    }
  },
  "cells": [
    {
      "cell_type": "markdown",
      "metadata": {
        "id": "view-in-github",
        "colab_type": "text"
      },
      "source": [
        "<a href=\"https://colab.research.google.com/github/Aksa21/ddos_detection_uav/blob/main/dataextraction_ddos.ipynb\" target=\"_parent\"><img src=\"https://colab.research.google.com/assets/colab-badge.svg\" alt=\"Open In Colab\"/></a>"
      ]
    },
    {
      "cell_type": "code",
      "source": [],
      "metadata": {
        "id": "57wicoc96O9N"
      },
      "execution_count": null,
      "outputs": []
    },
    {
      "cell_type": "code",
      "source": [],
      "metadata": {
        "id": "V-e51gs-x0ZO"
      },
      "execution_count": null,
      "outputs": []
    },
    {
      "cell_type": "code",
      "source": [
        "!pip install scapy"
      ],
      "metadata": {
        "colab": {
          "base_uri": "https://localhost:8080/"
        },
        "id": "ZqR8A48DkWTM",
        "outputId": "fbaf7116-ed1b-4dbc-9bfe-cc709fba5e3f"
      },
      "execution_count": null,
      "outputs": [
        {
          "output_type": "stream",
          "name": "stdout",
          "text": [
            "Collecting scapy\n",
            "  Downloading scapy-2.5.0.tar.gz (1.3 MB)\n",
            "\u001b[2K     \u001b[90m━━━━━━━━━━━━━━━━━━━━━━━━━━━━━━━━━━━━━━━━\u001b[0m \u001b[32m1.3/1.3 MB\u001b[0m \u001b[31m5.3 MB/s\u001b[0m eta \u001b[36m0:00:00\u001b[0m\n",
            "\u001b[?25h  Preparing metadata (setup.py) ... \u001b[?25l\u001b[?25hdone\n",
            "Building wheels for collected packages: scapy\n",
            "  Building wheel for scapy (setup.py) ... \u001b[?25l\u001b[?25hdone\n",
            "  Created wheel for scapy: filename=scapy-2.5.0-py2.py3-none-any.whl size=1444328 sha256=c115df7a8062221ded606d49928b3a6db20b7a7f75aeba2ab2b70e4f61118bb9\n",
            "  Stored in directory: /root/.cache/pip/wheels/82/b7/03/8344d8cf6695624746311bc0d389e9d05535ca83c35f90241d\n",
            "Successfully built scapy\n",
            "Installing collected packages: scapy\n",
            "Successfully installed scapy-2.5.0\n"
          ]
        }
      ]
    },
    {
      "cell_type": "code",
      "source": [
        "from scapy.all import *\n",
        "import csv\n",
        "\n",
        "def pcap_to_csv(pcap_filename, csv_filename):\n",
        "    packets = rdpcap(pcap_filename)\n",
        "\n",
        "    with open(csv_filename, 'w', newline='') as csvfile:\n",
        "        fieldnames = ['timestamp', 'source_ip', 'destination_ip', 'source_port', 'destination_port', 'protocol', 'packet_size']\n",
        "        writer = csv.DictWriter(csvfile, fieldnames=fieldnames)\n",
        "\n",
        "        writer.writeheader()\n",
        "\n",
        "        for pkt in packets:\n",
        "            timestamp = pkt.time\n",
        "            source_ip = pkt[IP].src if IP in pkt else None\n",
        "            destination_ip = pkt[IP].dst if IP in pkt else None\n",
        "            source_port = pkt[IP].sport if IP in pkt and hasattr(pkt[IP], 'sport') else None\n",
        "            destination_port = pkt[IP].dport if IP in pkt and hasattr(pkt[IP], 'dport') else None\n",
        "            protocol = pkt[IP].proto if IP in pkt else None\n",
        "            packet_size = len(pkt)\n",
        "\n",
        "            writer.writerow({\n",
        "                'timestamp': timestamp,\n",
        "                'source_ip': source_ip,\n",
        "                'destination_ip': destination_ip,\n",
        "                'source_port': source_port,\n",
        "                'destination_port': destination_port,\n",
        "                'protocol': protocol,\n",
        "                'packet_size': packet_size\n",
        "            })\n",
        "\n",
        "# Specify input PCAP file and output CSV file\n",
        "input_pcap_filename = '/content/25dataaa.pcap'\n",
        "output_csv_filename = 'norm_gold.csv'\n",
        "\n",
        "pcap_to_csv(input_pcap_filename, output_csv_filename)\n",
        "print(\"PCAP to CSV conversion complete. Results written to\", output_csv_filename)\n",
        "\n"
      ],
      "metadata": {
        "colab": {
          "base_uri": "https://localhost:8080/"
        },
        "outputId": "e11fcc0f-6c0d-4fe6-bdd4-0731d9e83aa2",
        "id": "sC3iXpKcx01s"
      },
      "execution_count": null,
      "outputs": [
        {
          "output_type": "stream",
          "name": "stdout",
          "text": [
            "PCAP to CSV conversion complete. Results written to norm_gold.csv\n"
          ]
        }
      ]
    },
    {
      "cell_type": "code",
      "source": [
        "from glob import glob\n",
        "import pandas as pd"
      ],
      "metadata": {
        "id": "a_WjZgouPzQI"
      },
      "execution_count": null,
      "outputs": []
    },
    {
      "cell_type": "markdown",
      "source": [
        "code for packet_info_ddos"
      ],
      "metadata": {
        "id": "2WDW8ugs8gEN"
      }
    },
    {
      "cell_type": "code",
      "source": [
        "import pandas as pd\n",
        "\n",
        "# Sample data with Unix epoch timestamps\n",
        "data = pd.read_csv('/content/norm_gold.csv')\n",
        "\n",
        "# Convert Unix epoch timestamps to pandas Timestamp objects\n",
        "data['timestamp'] = pd.to_datetime(data['timestamp'], unit='s')\n",
        "\n",
        "# Find the minimum Unix epoch timestamp\n",
        "min_timestamp = data['timestamp'].min()\n",
        "\n",
        "# Subtract the minimum timestamp to shift the time scale\n",
        "data['adjusted_timestamp'] = (data['timestamp'] - min_timestamp) + pd.Timedelta(seconds=1)\n",
        "\n",
        "print(data)\n"
      ],
      "metadata": {
        "colab": {
          "base_uri": "https://localhost:8080/"
        },
        "id": "v537hwei4EAv",
        "outputId": "64e0c5f6-efc8-4230-a301-49f329c3e897"
      },
      "execution_count": null,
      "outputs": [
        {
          "output_type": "stream",
          "name": "stdout",
          "text": [
            "                           timestamp      source_ip  destination_ip  \\\n",
            "0      2023-08-25 09:52:04.857777152    10.42.0.111      10.42.0.34   \n",
            "1      2023-08-25 09:52:04.890050816     10.42.0.34     10.42.0.111   \n",
            "2      2023-08-25 09:52:04.890074880     10.42.0.34     10.42.0.111   \n",
            "3      2023-08-25 09:52:04.890078976     10.42.0.34     10.42.0.111   \n",
            "4      2023-08-25 09:52:04.890081792     10.42.0.34     10.42.0.111   \n",
            "...                              ...            ...             ...   \n",
            "529951 2023-08-25 10:18:47.776020992    10.42.0.111      10.42.0.34   \n",
            "529952 2023-08-25 10:18:47.783264000  57.128.101.93     10.42.0.111   \n",
            "529953 2023-08-25 10:18:47.811702016    10.42.0.111     224.0.0.251   \n",
            "529954 2023-08-25 10:18:47.811779072            NaN             NaN   \n",
            "529955 2023-08-25 10:18:47.812879104    10.42.0.111  185.125.190.18   \n",
            "\n",
            "        source_port  destination_port  protocol  packet_size  \\\n",
            "0           14550.0           53701.0      17.0           65   \n",
            "1           53701.0           14550.0      17.0           82   \n",
            "2           53701.0           14550.0      17.0           86   \n",
            "3           53701.0           14550.0      17.0           98   \n",
            "4           53701.0           14550.0      17.0          116   \n",
            "...             ...               ...       ...          ...   \n",
            "529951      14550.0           53701.0      17.0           65   \n",
            "529952        443.0           43254.0       6.0           66   \n",
            "529953       5353.0            5353.0      17.0           88   \n",
            "529954          NaN               NaN       NaN          108   \n",
            "529955      59690.0              80.0       6.0           74   \n",
            "\n",
            "              adjusted_timestamp  \n",
            "0                0 days 00:00:01  \n",
            "1      0 days 00:00:01.032273664  \n",
            "2      0 days 00:00:01.032297728  \n",
            "3      0 days 00:00:01.032301824  \n",
            "4      0 days 00:00:01.032304640  \n",
            "...                          ...  \n",
            "529951 0 days 00:26:43.918243840  \n",
            "529952 0 days 00:26:43.925486848  \n",
            "529953 0 days 00:26:43.953924864  \n",
            "529954 0 days 00:26:43.954001920  \n",
            "529955 0 days 00:26:43.955101952  \n",
            "\n",
            "[529956 rows x 8 columns]\n"
          ]
        }
      ]
    },
    {
      "cell_type": "markdown",
      "source": [
        "code for calculatting using 10 sec window"
      ],
      "metadata": {
        "id": "DYAIbYbw8ogj"
      }
    },
    {
      "cell_type": "code",
      "source": [
        "import pandas as pd\n",
        "import csv\n",
        "\n",
        "# Sort data by timestamp\n",
        "data = data.sort_values(by='adjusted_timestamp')\n",
        "\n",
        "# Define window size and frequency\n",
        "window_size = pd.Timedelta(seconds=0.25)\n",
        "window_freq = pd.Timedelta(seconds=0.25)\n",
        "\n",
        "# Group data by timestamp and resample with the window frequency\n",
        "group_data = data.set_index('adjusted_timestamp').resample(window_freq)\n",
        "\n",
        "# Create a list to store packet information for each window\n",
        "packet_classification = []\n",
        "\n",
        "# Iterate through the resampled time windows\n",
        "for window_start, window_data in group_data:\n",
        "    if not window_data.empty:\n",
        "        window_packet_sizes = window_data['packet_size']\n",
        "        inter_arrival_times = [(window_data.index[i] - window_data.index[i - 1]).total_seconds() for i in range(1, len(window_data))]\n",
        "\n",
        "        total_packets = len(window_packet_sizes)\n",
        "        total_size = window_packet_sizes.sum()\n",
        "        mean_size = total_size / total_packets if total_packets > 0 else 0\n",
        "        mean_inter_arrival = sum(inter_arrival_times) / len(inter_arrival_times) if len(inter_arrival_times) > 0 else 0\n",
        "\n",
        "        # Append packet information to the list\n",
        "        packet_classification.append([window_start, total_packets, total_size, mean_size, mean_inter_arrival])\n",
        "\n",
        "# Define the output CSV file name\n",
        "output_csv_filename = 'norm_silv(0.25s).csv'\n",
        "\n",
        "# Write the packet information to the CSV file\n",
        "with open(output_csv_filename, 'w', newline='') as csvfile:\n",
        "    csv_writer = csv.writer(csvfile)\n",
        "\n",
        "    # Write the header row\n",
        "    csv_writer.writerow(['Window start', 'Total packets', 'Total size', 'Mean size', 'Mean inter-arrival'])\n",
        "\n",
        "    # Write the packet information rows\n",
        "    for packet_info in packet_classification:\n",
        "        csv_writer.writerow(packet_info)\n",
        "\n",
        "print(\"Results written to\", output_csv_filename)\n",
        "\n",
        "\n"
      ],
      "metadata": {
        "colab": {
          "base_uri": "https://localhost:8080/"
        },
        "id": "tCtBRUJM2a0c",
        "outputId": "97d6699d-8102-4194-b225-8f2b6a73390f"
      },
      "execution_count": null,
      "outputs": [
        {
          "output_type": "stream",
          "name": "stdout",
          "text": [
            "Results written to norm_silv(0.25s).csv\n"
          ]
        }
      ]
    },
    {
      "cell_type": "code",
      "source": [
        "data=pd.read_csv('/content/packet_info(1s).csv')\n",
        "data.head()"
      ],
      "metadata": {
        "colab": {
          "base_uri": "https://localhost:8080/",
          "height": 206
        },
        "id": "mlCsV3hnC7j4",
        "outputId": "1c1a7673-7e0d-48d3-8e76-1986708cf570"
      },
      "execution_count": null,
      "outputs": [
        {
          "output_type": "execute_result",
          "data": {
            "text/plain": [
              "      Window start  Total packets  Total size  Mean size  Mean inter-arrival\n",
              "0  0 days 00:00:01             56        3702  66.107143            0.018181\n",
              "1  0 days 00:00:02             63        4392  69.714286            0.015475\n",
              "2  0 days 00:00:03             56        3684  65.785714            0.017447\n",
              "3  0 days 00:00:04             56        3732  66.642857            0.017505\n",
              "4  0 days 00:00:05             55        3665  66.636364            0.017850"
            ],
            "text/html": [
              "\n",
              "  <div id=\"df-780cd846-4207-4e24-9374-7ca269cd6939\" class=\"colab-df-container\">\n",
              "    <div>\n",
              "<style scoped>\n",
              "    .dataframe tbody tr th:only-of-type {\n",
              "        vertical-align: middle;\n",
              "    }\n",
              "\n",
              "    .dataframe tbody tr th {\n",
              "        vertical-align: top;\n",
              "    }\n",
              "\n",
              "    .dataframe thead th {\n",
              "        text-align: right;\n",
              "    }\n",
              "</style>\n",
              "<table border=\"1\" class=\"dataframe\">\n",
              "  <thead>\n",
              "    <tr style=\"text-align: right;\">\n",
              "      <th></th>\n",
              "      <th>Window start</th>\n",
              "      <th>Total packets</th>\n",
              "      <th>Total size</th>\n",
              "      <th>Mean size</th>\n",
              "      <th>Mean inter-arrival</th>\n",
              "    </tr>\n",
              "  </thead>\n",
              "  <tbody>\n",
              "    <tr>\n",
              "      <th>0</th>\n",
              "      <td>0 days 00:00:01</td>\n",
              "      <td>56</td>\n",
              "      <td>3702</td>\n",
              "      <td>66.107143</td>\n",
              "      <td>0.018181</td>\n",
              "    </tr>\n",
              "    <tr>\n",
              "      <th>1</th>\n",
              "      <td>0 days 00:00:02</td>\n",
              "      <td>63</td>\n",
              "      <td>4392</td>\n",
              "      <td>69.714286</td>\n",
              "      <td>0.015475</td>\n",
              "    </tr>\n",
              "    <tr>\n",
              "      <th>2</th>\n",
              "      <td>0 days 00:00:03</td>\n",
              "      <td>56</td>\n",
              "      <td>3684</td>\n",
              "      <td>65.785714</td>\n",
              "      <td>0.017447</td>\n",
              "    </tr>\n",
              "    <tr>\n",
              "      <th>3</th>\n",
              "      <td>0 days 00:00:04</td>\n",
              "      <td>56</td>\n",
              "      <td>3732</td>\n",
              "      <td>66.642857</td>\n",
              "      <td>0.017505</td>\n",
              "    </tr>\n",
              "    <tr>\n",
              "      <th>4</th>\n",
              "      <td>0 days 00:00:05</td>\n",
              "      <td>55</td>\n",
              "      <td>3665</td>\n",
              "      <td>66.636364</td>\n",
              "      <td>0.017850</td>\n",
              "    </tr>\n",
              "  </tbody>\n",
              "</table>\n",
              "</div>\n",
              "    <div class=\"colab-df-buttons\">\n",
              "\n",
              "  <div class=\"colab-df-container\">\n",
              "    <button class=\"colab-df-convert\" onclick=\"convertToInteractive('df-780cd846-4207-4e24-9374-7ca269cd6939')\"\n",
              "            title=\"Convert this dataframe to an interactive table.\"\n",
              "            style=\"display:none;\">\n",
              "\n",
              "  <svg xmlns=\"http://www.w3.org/2000/svg\" height=\"24px\" viewBox=\"0 -960 960 960\">\n",
              "    <path d=\"M120-120v-720h720v720H120Zm60-500h600v-160H180v160Zm220 220h160v-160H400v160Zm0 220h160v-160H400v160ZM180-400h160v-160H180v160Zm440 0h160v-160H620v160ZM180-180h160v-160H180v160Zm440 0h160v-160H620v160Z\"/>\n",
              "  </svg>\n",
              "    </button>\n",
              "\n",
              "  <style>\n",
              "    .colab-df-container {\n",
              "      display:flex;\n",
              "      gap: 12px;\n",
              "    }\n",
              "\n",
              "    .colab-df-convert {\n",
              "      background-color: #E8F0FE;\n",
              "      border: none;\n",
              "      border-radius: 50%;\n",
              "      cursor: pointer;\n",
              "      display: none;\n",
              "      fill: #1967D2;\n",
              "      height: 32px;\n",
              "      padding: 0 0 0 0;\n",
              "      width: 32px;\n",
              "    }\n",
              "\n",
              "    .colab-df-convert:hover {\n",
              "      background-color: #E2EBFA;\n",
              "      box-shadow: 0px 1px 2px rgba(60, 64, 67, 0.3), 0px 1px 3px 1px rgba(60, 64, 67, 0.15);\n",
              "      fill: #174EA6;\n",
              "    }\n",
              "\n",
              "    .colab-df-buttons div {\n",
              "      margin-bottom: 4px;\n",
              "    }\n",
              "\n",
              "    [theme=dark] .colab-df-convert {\n",
              "      background-color: #3B4455;\n",
              "      fill: #D2E3FC;\n",
              "    }\n",
              "\n",
              "    [theme=dark] .colab-df-convert:hover {\n",
              "      background-color: #434B5C;\n",
              "      box-shadow: 0px 1px 3px 1px rgba(0, 0, 0, 0.15);\n",
              "      filter: drop-shadow(0px 1px 2px rgba(0, 0, 0, 0.3));\n",
              "      fill: #FFFFFF;\n",
              "    }\n",
              "  </style>\n",
              "\n",
              "    <script>\n",
              "      const buttonEl =\n",
              "        document.querySelector('#df-780cd846-4207-4e24-9374-7ca269cd6939 button.colab-df-convert');\n",
              "      buttonEl.style.display =\n",
              "        google.colab.kernel.accessAllowed ? 'block' : 'none';\n",
              "\n",
              "      async function convertToInteractive(key) {\n",
              "        const element = document.querySelector('#df-780cd846-4207-4e24-9374-7ca269cd6939');\n",
              "        const dataTable =\n",
              "          await google.colab.kernel.invokeFunction('convertToInteractive',\n",
              "                                                    [key], {});\n",
              "        if (!dataTable) return;\n",
              "\n",
              "        const docLinkHtml = 'Like what you see? Visit the ' +\n",
              "          '<a target=\"_blank\" href=https://colab.research.google.com/notebooks/data_table.ipynb>data table notebook</a>'\n",
              "          + ' to learn more about interactive tables.';\n",
              "        element.innerHTML = '';\n",
              "        dataTable['output_type'] = 'display_data';\n",
              "        await google.colab.output.renderOutput(dataTable, element);\n",
              "        const docLink = document.createElement('div');\n",
              "        docLink.innerHTML = docLinkHtml;\n",
              "        element.appendChild(docLink);\n",
              "      }\n",
              "    </script>\n",
              "  </div>\n",
              "\n",
              "\n",
              "<div id=\"df-6363469b-d8e5-46c0-aa53-d3c929983afd\">\n",
              "  <button class=\"colab-df-quickchart\" onclick=\"quickchart('df-6363469b-d8e5-46c0-aa53-d3c929983afd')\"\n",
              "            title=\"Suggest charts.\"\n",
              "            style=\"display:none;\">\n",
              "\n",
              "<svg xmlns=\"http://www.w3.org/2000/svg\" height=\"24px\"viewBox=\"0 0 24 24\"\n",
              "     width=\"24px\">\n",
              "    <g>\n",
              "        <path d=\"M19 3H5c-1.1 0-2 .9-2 2v14c0 1.1.9 2 2 2h14c1.1 0 2-.9 2-2V5c0-1.1-.9-2-2-2zM9 17H7v-7h2v7zm4 0h-2V7h2v10zm4 0h-2v-4h2v4z\"/>\n",
              "    </g>\n",
              "</svg>\n",
              "  </button>\n",
              "\n",
              "<style>\n",
              "  .colab-df-quickchart {\n",
              "    background-color: #E8F0FE;\n",
              "    border: none;\n",
              "    border-radius: 50%;\n",
              "    cursor: pointer;\n",
              "    display: none;\n",
              "    fill: #1967D2;\n",
              "    height: 32px;\n",
              "    padding: 0 0 0 0;\n",
              "    width: 32px;\n",
              "  }\n",
              "\n",
              "  .colab-df-quickchart:hover {\n",
              "    background-color: #E2EBFA;\n",
              "    box-shadow: 0px 1px 2px rgba(60, 64, 67, 0.3), 0px 1px 3px 1px rgba(60, 64, 67, 0.15);\n",
              "    fill: #174EA6;\n",
              "  }\n",
              "\n",
              "  [theme=dark] .colab-df-quickchart {\n",
              "    background-color: #3B4455;\n",
              "    fill: #D2E3FC;\n",
              "  }\n",
              "\n",
              "  [theme=dark] .colab-df-quickchart:hover {\n",
              "    background-color: #434B5C;\n",
              "    box-shadow: 0px 1px 3px 1px rgba(0, 0, 0, 0.15);\n",
              "    filter: drop-shadow(0px 1px 2px rgba(0, 0, 0, 0.3));\n",
              "    fill: #FFFFFF;\n",
              "  }\n",
              "</style>\n",
              "\n",
              "  <script>\n",
              "    async function quickchart(key) {\n",
              "      const charts = await google.colab.kernel.invokeFunction(\n",
              "          'suggestCharts', [key], {});\n",
              "    }\n",
              "    (() => {\n",
              "      let quickchartButtonEl =\n",
              "        document.querySelector('#df-6363469b-d8e5-46c0-aa53-d3c929983afd button');\n",
              "      quickchartButtonEl.style.display =\n",
              "        google.colab.kernel.accessAllowed ? 'block' : 'none';\n",
              "    })();\n",
              "  </script>\n",
              "</div>\n",
              "    </div>\n",
              "  </div>\n"
            ]
          },
          "metadata": {},
          "execution_count": 10
        }
      ]
    },
    {
      "cell_type": "code",
      "source": [
        "pip install pyshark"
      ],
      "metadata": {
        "colab": {
          "base_uri": "https://localhost:8080/"
        },
        "id": "UuLjqbKE9kVa",
        "outputId": "869c0ff6-8e61-46d5-a4cd-0a34c09ac46d"
      },
      "execution_count": null,
      "outputs": [
        {
          "output_type": "stream",
          "name": "stdout",
          "text": [
            "Collecting pyshark\n",
            "  Downloading pyshark-0.6-py3-none-any.whl (41 kB)\n",
            "\u001b[?25l     \u001b[90m━━━━━━━━━━━━━━━━━━━━━━━━━━━━━━━━━━━━━━━━\u001b[0m \u001b[32m0.0/41.4 kB\u001b[0m \u001b[31m?\u001b[0m eta \u001b[36m-:--:--\u001b[0m\r\u001b[2K     \u001b[90m━━━━━━━━━━━━━━━━━━━━━━━━━━━━━━━━━━━━━━━━\u001b[0m \u001b[32m41.4/41.4 kB\u001b[0m \u001b[31m1.1 MB/s\u001b[0m eta \u001b[36m0:00:00\u001b[0m\n",
            "\u001b[?25hRequirement already satisfied: lxml in /usr/local/lib/python3.10/dist-packages (from pyshark) (4.9.3)\n",
            "Requirement already satisfied: termcolor in /usr/local/lib/python3.10/dist-packages (from pyshark) (2.3.0)\n",
            "Requirement already satisfied: packaging in /usr/local/lib/python3.10/dist-packages (from pyshark) (23.1)\n",
            "Requirement already satisfied: appdirs in /usr/local/lib/python3.10/dist-packages (from pyshark) (1.4.4)\n",
            "Installing collected packages: pyshark\n",
            "Successfully installed pyshark-0.6\n"
          ]
        }
      ]
    },
    {
      "cell_type": "code",
      "source": [
        "pip install scapy"
      ],
      "metadata": {
        "id": "i9V8jaK4-96Q"
      },
      "execution_count": null,
      "outputs": []
    },
    {
      "cell_type": "code",
      "source": [
        "from scapy.all import *\n",
        "import csv\n",
        "\n",
        "def pcap_to_csv(pcap_filename, csv_filename):\n",
        "    packets = rdpcap(pcap_filename)\n",
        "\n",
        "    with open(csv_filename, 'w', newline='') as csvfile:\n",
        "        fieldnames = ['timestamp', 'source_ip', 'destination_ip', 'source_port', 'destination_port', 'protocol', 'packet_size']\n",
        "        writer = csv.DictWriter(csvfile, fieldnames=fieldnames)\n",
        "\n",
        "        writer.writeheader()\n",
        "\n",
        "        for pkt in packets:\n",
        "            timestamp = pkt.time\n",
        "            source_ip = pkt[IP].src if IP in pkt else None\n",
        "            destination_ip = pkt[IP].dst if IP in pkt else None\n",
        "            source_port = pkt[IP].sport if IP in pkt and hasattr(pkt[IP], 'sport') else None\n",
        "            destination_port = pkt[IP].dport if IP in pkt and hasattr(pkt[IP], 'dport') else None\n",
        "            protocol = pkt[IP].proto if IP in pkt else None\n",
        "            packet_size = len(pkt)\n",
        "\n",
        "            writer.writerow({\n",
        "                'timestamp': timestamp,\n",
        "                'source_ip': source_ip,\n",
        "                'destination_ip': destination_ip,\n",
        "                'source_port': source_port,\n",
        "                'destination_port': destination_port,\n",
        "                'protocol': protocol,\n",
        "                'packet_size': packet_size\n",
        "            })\n",
        "\n",
        "# Specify input PCAP file and output CSV file\n",
        "input_pcap_filename = ''\n",
        "output_csv_filename = 'big_ddos(0.25s).csv'\n",
        "\n",
        "pcap_to_csv(input_pcap_filename, output_csv_filename)\n",
        "print(\"PCAP to CSV conversion complete. Results written to\", output_csv_filename)\n",
        "\n"
      ],
      "metadata": {
        "colab": {
          "base_uri": "https://localhost:8080/"
        },
        "id": "FLKdu9BO_NgQ",
        "outputId": "7a9addad-d22b-4922-cd39-8138e707850f"
      },
      "execution_count": null,
      "outputs": [
        {
          "output_type": "stream",
          "name": "stdout",
          "text": [
            "PCAP to CSV conversion complete. Results written to big_ddos(0.25s).csv\n"
          ]
        }
      ]
    },
    {
      "cell_type": "markdown",
      "source": [
        "code for adjust timestamp"
      ],
      "metadata": {
        "id": "YEna5HRcCxaI"
      }
    },
    {
      "cell_type": "code",
      "source": [
        "import pandas as pd\n",
        "\n",
        "# Sample data with Unix epoch timestamps\n",
        "data = pd.read_csv('/content/traffic_data (1).csv')\n",
        "\n",
        "# Convert Unix epoch timestamps to pandas Timestamp objects\n",
        "data['timestamp'] = pd.to_datetime(data['timestamp'], unit='s')\n",
        "\n",
        "# Find the minimum Unix epoch timestamp\n",
        "min_timestamp = data['timestamp'].min()\n",
        "\n",
        "# Subtract the minimum timestamp to shift the time scale\n",
        "data['adjusted_timestamp'] = (data['timestamp'] - min_timestamp) + pd.Timedelta(seconds=1)\n",
        "\n",
        "print(data)"
      ],
      "metadata": {
        "colab": {
          "base_uri": "https://localhost:8080/"
        },
        "id": "r9pzJAml8xxO",
        "outputId": "6ddcfdcc-969a-4b00-9bef-ca4283333135"
      },
      "execution_count": null,
      "outputs": [
        {
          "output_type": "stream",
          "name": "stdout",
          "text": [
            "                           timestamp        source_ip destination_ip  \\\n",
            "0      2023-08-20 06:32:43.277779200      10.42.0.111     10.42.0.34   \n",
            "1      2023-08-20 06:32:43.277807872      10.42.0.111     10.42.0.34   \n",
            "2      2023-08-20 06:32:43.317961984      10.42.0.111     10.42.0.34   \n",
            "3      2023-08-20 06:32:43.317982976      10.42.0.111     10.42.0.34   \n",
            "4      2023-08-20 06:32:43.357772032      10.42.0.111     10.42.0.34   \n",
            "...                              ...              ...            ...   \n",
            "114144 2023-08-20 06:34:11.830530816   123.132.91.244    10.42.0.111   \n",
            "114145 2023-08-20 06:34:11.830534912   174.223.68.197    10.42.0.111   \n",
            "114146 2023-08-20 06:34:11.831715072  249.135.138.233    10.42.0.111   \n",
            "114147 2023-08-20 06:34:11.831727872   123.37.126.242    10.42.0.111   \n",
            "114148 2023-08-20 06:34:11.831731968  255.204.107.132     10.42.0.11   \n",
            "\n",
            "        source_port  destination_port  protocol  packet_size  \\\n",
            "0           14550.0           44840.0      17.0         65.0   \n",
            "1           14550.0           41519.0      17.0         65.0   \n",
            "2           14550.0           44840.0      17.0         65.0   \n",
            "3           14550.0           41519.0      17.0         65.0   \n",
            "4           14550.0           44840.0      17.0         65.0   \n",
            "...             ...               ...       ...          ...   \n",
            "114144          NaN               NaN       6.0       1514.0   \n",
            "114145          NaN               NaN       6.0       1514.0   \n",
            "114146          NaN               NaN       6.0       1514.0   \n",
            "114147          NaN               NaN       6.0       1514.0   \n",
            "114148          NaN               NaN       NaN          NaN   \n",
            "\n",
            "              adjusted_timestamp  \n",
            "0                0 days 00:00:01  \n",
            "1      0 days 00:00:01.000028672  \n",
            "2      0 days 00:00:01.040182784  \n",
            "3      0 days 00:00:01.040203776  \n",
            "4      0 days 00:00:01.079992832  \n",
            "...                          ...  \n",
            "114144 0 days 00:01:29.552751616  \n",
            "114145 0 days 00:01:29.552755712  \n",
            "114146 0 days 00:01:29.553935872  \n",
            "114147 0 days 00:01:29.553948672  \n",
            "114148 0 days 00:01:29.553952768  \n",
            "\n",
            "[114149 rows x 8 columns]\n"
          ]
        }
      ]
    },
    {
      "cell_type": "markdown",
      "source": [
        "code for packet_info normal"
      ],
      "metadata": {
        "id": "ToKyBlo2C3Mx"
      }
    },
    {
      "cell_type": "code",
      "source": [
        "import pandas as pd\n",
        "import csv\n",
        "\n",
        "# Sort data by timestamp\n",
        "data = data.sort_values(by='adjusted_timestamp')\n",
        "\n",
        "# Define window size and frequency\n",
        "window_size = pd.Timedelta(seconds=0.25)\n",
        "window_freq = pd.Timedelta(seconds=0.25)\n",
        "\n",
        "# Group data by timestamp and resample with the window frequency\n",
        "group_data = data.set_index('adjusted_timestamp').resample(window_freq)\n",
        "\n",
        "# Create a list to store packet information for each window\n",
        "packet_classification = []\n",
        "\n",
        "# Iterate through the resampled time windows\n",
        "for window_start, window_data in group_data:\n",
        "    if not window_data.empty:\n",
        "        window_packet_sizes = window_data['packet_size']\n",
        "        inter_arrival_times = [(window_data.index[i] - window_data.index[i - 1]).total_seconds() for i in range(1, len(window_data))]\n",
        "\n",
        "        total_packets = len(window_packet_sizes)#no of packets in window\n",
        "        total_size = window_packet_sizes.sum()#size of all packets in window\n",
        "        mean_size = total_size / total_packets if total_packets > 0 else 0\n",
        "        mean_inter_arrival = sum(inter_arrival_times) / len(inter_arrival_times) if len(inter_arrival_times) > 0 else 0\n",
        "\n",
        "        # Append packet information to the list\n",
        "        packet_classification.append([window_start, total_packets, total_size, mean_size, mean_inter_arrival])\n",
        "\n",
        "# Define the output CSV file name\n",
        "output_csv_filename = 'black.csv'\n",
        "\n",
        "# Write the packet information to the CSV file\n",
        "with open(output_csv_filename, 'w', newline='') as csvfile:\n",
        "    csv_writer = csv.writer(csvfile)\n",
        "\n",
        "    # Write the header row\n",
        "    csv_writer.writerow(['Window start', 'Total packets', 'Total size', 'Mean size', 'Mean inter-arrival'])\n",
        "\n",
        "    # Write the packet information rows\n",
        "    for packet_info in packet_classification:\n",
        "        csv_writer.writerow(packet_info)\n",
        "\n",
        "print(\"Results written to\", output_csv_filename)\n",
        "\n"
      ],
      "metadata": {
        "colab": {
          "base_uri": "https://localhost:8080/"
        },
        "id": "0RruR1kRCN8E",
        "outputId": "d439beb9-d767-4159-c5c8-d45a7e163617"
      },
      "execution_count": null,
      "outputs": [
        {
          "output_type": "stream",
          "name": "stdout",
          "text": [
            "Results written to black.csv\n"
          ]
        }
      ]
    },
    {
      "cell_type": "code",
      "source": [],
      "metadata": {
        "id": "4aF85jirTojv"
      },
      "execution_count": null,
      "outputs": []
    },
    {
      "cell_type": "code",
      "source": [
        "import pandas as pd\n",
        "\n",
        "# Read the first CSV file\n",
        "csv_file1 = '/content/packet_info (2).csv'  # Replace with your file name\n",
        "df1 = pd.read_csv(csv_file1)\n",
        "\n",
        "# Read the second CSV file\n",
        "csv_file2 = '/content/packet_info_normal (1).csv'  # Replace with your file name\n",
        "df2 = pd.read_csv(csv_file2)\n",
        "\n",
        "# Merge the two DataFrames based on common columns\n",
        "merged_df = pd.merge(df1, df2, on=['Total packets', 'Total size', 'Mean size', 'Mean inter-arrival'])\n",
        "\n",
        "# Save the merged DataFrame to a new CSV file\n",
        "merged_csv_file = 'merged_file.csv'\n",
        "merged_df.to_csv(merged_csv_file, index=False)\n",
        "\n",
        "print(f\"Merged data saved to {merged_csv_file}\")\n"
      ],
      "metadata": {
        "colab": {
          "base_uri": "https://localhost:8080/"
        },
        "id": "gNKL6yIHDNiq",
        "outputId": "24e91c9c-9b23-4669-fb69-3e8911426318"
      },
      "execution_count": null,
      "outputs": [
        {
          "output_type": "stream",
          "name": "stdout",
          "text": [
            "Merged data saved to merged_file.csv\n"
          ]
        }
      ]
    },
    {
      "cell_type": "code",
      "source": [
        "# Support Vector Machine (SVM)\n",
        "\n",
        "# Importing the libraries\n",
        "import numpy as np\n",
        "import matplotlib.pyplot as plt\n",
        "import pandas as pd\n",
        "import seaborn as sns\n",
        "import time\n",
        "from sklearn.model_selection import train_test_split\n",
        "from sklearn.preprocessing import StandardScaler, MinMaxScaler\n",
        "from sklearn.svm import SVC\n",
        "from sklearn.metrics import confusion_matrix, accuracy_score, classification_report\n",
        "from sklearn.metrics import ConfusionMatrixDisplay\n",
        "\n",
        "\n",
        "# Importing the dataset\n",
        "dataset = pd.read_csv('merged_file.csv')\n",
        "\n",
        "# Separate features and target variable\n",
        "X = dataset.drop('Scenario', axis=1).values\n",
        "y = dataset['Scenario'].values\n",
        "X_train, X_test, y_train, y_test = train_test_split(X, y, test_size=0.25, random_state=0)\n",
        "\n",
        "# Initialize the scalers\n",
        "scaler_total_packets = StandardScaler()\n",
        "scaler_total_size = StandardScaler()\n",
        "scaler_mean_size = StandardScaler()\n",
        "scaler_mean_interarrival = StandardScaler()\n",
        "\n",
        "# Normalize 'Total packets'\n",
        "X_train[:, 0] = scaler_total_packets.fit_transform(X_train[:, 0].reshape(-1, 1)).flatten()\n",
        "X_test[:, 0] = scaler_total_packets.transform(X_test[:, 0].reshape(-1, 1)).flatten()\n",
        "\n",
        "# Normalize 'Total size'\n",
        "X_train[:, 1] = scaler_total_size.fit_transform(X_train[:, 1].reshape(-1, 1)).flatten()\n",
        "X_test[:, 1] = scaler_total_size.transform(X_test[:, 1].reshape(-1, 1)).flatten()\n",
        "\n",
        "# Normalize 'Mean size'\n",
        "X_train[:, 2] = scaler_mean_size.fit_transform(X_train[:, 2].reshape(-1, 1)).flatten()\n",
        "X_test[:, 2] = scaler_mean_size.transform(X_test[:, 2].reshape(-1, 1)).flatten()\n",
        "\n",
        "# Normalize 'Mean inter-arrival'\n",
        "X_train[:, 3] = scaler_mean_interarrival.fit_transform(X_train[:, 3].reshape(-1, 1)).flatten()\n",
        "X_test[:, 3] = scaler_mean_interarrival.transform(X_test[:, 3].reshape(-1, 1)).flatten()\n",
        "#print(X_train)\n",
        "\n",
        "sc = StandardScaler()\n",
        "X_train = sc.fit_transform(X_train)\n",
        "X_test = sc.transform(X_test)\n",
        "\n",
        "classifier = SVC(kernel='linear', random_state=0)\n",
        "classifier.fit(X_train, y_train)\n",
        "\n",
        "# Predicting the Test set results\n",
        "y_pred = classifier.predict(X_test)\n",
        "print(np.concatenate((y_pred.reshape(len(y_pred),1), y_test.reshape(len(y_test),1)),1))\n",
        "\n",
        "# Calculating accuracy and confusion matrix\n",
        "cm = confusion_matrix(y_test, y_pred)\n",
        "accuracy = accuracy_score(y_test, y_pred)\n",
        "\n",
        "report = classification_report(y_test, y_pred, target_names=['Normal', 'Anomaly'])\n",
        "print(\"Classification Report:\\n\", report)\n",
        "\n",
        "#Visualizing the Confusion Matrix\n",
        "plt.figure(figsize=(8, 6))\n",
        "sns.heatmap(cm, annot=True, fmt=\"d\", cmap=\"Oranges\", cbar=False)\n",
        "plt.xlabel(\"Predicted Labels\")\n",
        "plt.ylabel(\"True Labels\")\n",
        "plt.title(\"Confusion Matrix\")\n",
        "plt.savefig('Confusion Matrix.png', dpi=600)  # Save confusion matrix as PNG\n",
        "plt.show()\n",
        "\n",
        "\n",
        "# Display confusion matrix from estimator\n",
        "target_names = ['Normal', 'Anomaly']\n",
        "ConfusionMatrixDisplay.from_estimator(classifier, X_test, y_test, display_labels=target_names, normalize=None, cmap=\"OrRd\")\n",
        "plt.title('Testing Confusion Matrix SVM')\n",
        "plt.savefig('Testing Confusion Matrix SVM.png', dpi=600)\n",
        "plt.show()\n",
        "\n",
        "#Calculate runtime\n",
        "start_time = time.time()  # Start time for runtime measurement\n",
        "end_time = time.time()\n",
        "total_runtime = end_time - start_time\n",
        "\n",
        "print(\"Total runtime:\", total_runtime, \"seconds\")"
      ],
      "metadata": {
        "id": "wF7EEZWPTp7I"
      },
      "execution_count": null,
      "outputs": []
    }
  ]
}